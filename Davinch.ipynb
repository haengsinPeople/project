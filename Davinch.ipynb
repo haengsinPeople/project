{
 "cells": [
  {
   "cell_type": "code",
   "execution_count": 1,
   "metadata": {
    "collapsed": false
   },
   "outputs": [],
   "source": [
    "import random\n",
    "class Deck():\n",
    "    deck_cnt = 0\n",
    "    deck=[]\n",
    "    def __init__(self):\n",
    "        i = 0\n",
    "        while i<26:\n",
    "            if(i == 24):\n",
    "                self.deck.append([i,'joker','흑',0])\n",
    "            elif(i == 25):\n",
    "                self.deck.append([i,'joker','백',0])\n",
    "            elif(i%2 == 0):\n",
    "                self.deck.append([i,int(i/2),'흑',0]) \n",
    "            else:\n",
    "                self.deck.append([i,int(i/2),'백',0])\n",
    "    \n",
    "            print(self.deck[i])\n",
    "\n",
    "            i = i +1\n",
    "    \n",
    "    def deck_prt(sefl):\n",
    "        print(deck)\n",
    "            \n",
    "\n",
    "class Davinch():\n",
    "    \n",
    "    def __init__(self):\n",
    "        self.hand_cnt = 0\n",
    "        self.hand = []\n",
    "        \n",
    "    def start(self,deck):\n",
    "        tmp = 0\n",
    "        for i in range(0,4):\n",
    "            j = random.randint(0,25-deck.deck_cnt)\n",
    "            if j == 24 or j == 25:\n",
    "                tmp = tmp + 1\n",
    "            self.hand.append(deck.deck[j])\n",
    "            deck.deck.remove(deck.deck[j])\n",
    "            deck.deck_cnt = deck.deck_cnt + 1\n",
    "            self.hand_cnt = self.hand_cnt + 1\n",
    "        self.hand.sort()\n",
    "        \n",
    "        if tmp == 2:\n",
    "            for i in range(0,2):\n",
    "                while pos < 0 and pos > 5:\n",
    "                    pos = input(\"조커를 넣을 위치를 입력하시오.(흑, 백 순)\")#조커는 24 또는 25\n",
    "                self.hand[i+2][0] = pos - 1\n",
    "            \n",
    "                \n",
    "\n",
    "        return deck\n",
    "        \n",
    "    def find(self,temp_hand,num,pos):\n",
    "        if temp_hand[pos-1][3] == 1:\n",
    "            print(\"이미 맞추셨습니다.\")\n",
    "            return\n",
    "        flag = 0\n",
    "        for i in range(self.hand_cnt):\n",
    "            if self.hand[i][1] == num and i == pos-1:\n",
    "                flag = 1\n",
    "                break\n",
    "    \n",
    "        if(flag == 0):\n",
    "            return 0\n",
    "        else:\n",
    "            self.hand[i][3] = 1\n",
    "            return 1\n",
    "        \n",
    "    def hand_print(self):\n",
    "        prt = []\n",
    "        for i in range(self.hand_cnt):\n",
    "            if self.hand[i][3] == 1:\n",
    "                prt.append(self.hand[i][2]+str(self.hand[i][1]))\n",
    "            else:\n",
    "                prt.append(self.hand[i][2])\n",
    "        print(prt)\n",
    "        \n",
    "    def draw(self,deck):\n",
    "        j = random.randint(0,25-deck.deck_cnt)\n",
    "        self.hand.append(deck.deck[j])\n",
    "        deck.deck.remove(deck.deck[j])\n",
    "        deck.deck_cnt = deck.deck_cnt + 1\n",
    "        self.hand_cnt = self.hand_cnt + 1\n",
    "        \n",
    "        self.hand.sort()\n",
    "        \n",
    "    def end(self):\n",
    "        tmp = 0\n",
    "        for i in range(self.hand_cnt):\n",
    "            if self.hand[i][3] == 1:\n",
    "                tmp = tmp + 1\n",
    "        if tmp == self.hand_cnt:\n",
    "\n",
    "            \n",
    "            \n",
    "            \n",
    "            \n",
    "            \n",
    "            \n",
    "            \n",
    "            \n",
    "            \n",
    "            \n",
    "            \n",
    "            \n",
    "            \n",
    "            \n",
    "            \n",
    "            \n",
    "            \n",
    "            \n",
    "            \n",
    "            \n",
    "            return 1\n",
    "        else:\n",
    "            return 0\n",
    "        "
   ]
  },
  {
   "cell_type": "code",
   "execution_count": 2,
   "metadata": {
    "collapsed": false
   },
   "outputs": [
    {
     "name": "stdout",
     "output_type": "stream",
     "text": [
      "[0, 0, '흑', 0]\n",
      "[1, 0, '백', 0]\n",
      "[2, 1, '흑', 0]\n",
      "[3, 1, '백', 0]\n",
      "[4, 2, '흑', 0]\n",
      "[5, 2, '백', 0]\n",
      "[6, 3, '흑', 0]\n",
      "[7, 3, '백', 0]\n",
      "[8, 4, '흑', 0]\n",
      "[9, 4, '백', 0]\n",
      "[10, 5, '흑', 0]\n",
      "[11, 5, '백', 0]\n",
      "[12, 6, '흑', 0]\n",
      "[13, 6, '백', 0]\n",
      "[14, 7, '흑', 0]\n",
      "[15, 7, '백', 0]\n",
      "[16, 8, '흑', 0]\n",
      "[17, 8, '백', 0]\n",
      "[18, 9, '흑', 0]\n",
      "[19, 9, '백', 0]\n",
      "[20, 10, '흑', 0]\n",
      "[21, 10, '백', 0]\n",
      "[22, 11, '흑', 0]\n",
      "[23, 11, '백', 0]\n",
      "[24, 'joker', '흑', 0]\n",
      "[25, 'joker', '백', 0]\n",
      "['흑', '백', '백', '백']\n",
      "['흑', '백', '흑', '백']\n",
      "['흑', '백', '백', '흑', '백']\n"
     ]
    }
   ],
   "source": [
    "deck = Deck()\n",
    "p1 = Davinch()\n",
    "p2 = Davinch()\n",
    "p1.start(deck)\n",
    "p1.hand_print()\n",
    "\n",
    "p2.start(deck)\n",
    "p2.hand_print()\n",
    "\n",
    "p1.draw(deck)\n",
    "p1.hand_print()"
   ]
  },
  {
   "cell_type": "code",
   "execution_count": 7,
   "metadata": {
    "collapsed": false
   },
   "outputs": [
    {
     "data": {
      "text/plain": [
       "1"
      ]
     },
     "execution_count": 7,
     "metadata": {},
     "output_type": "execute_result"
    }
   ],
   "source": [
    "p1.find(p1.hand,2,1)"
   ]
  },
  {
   "cell_type": "code",
   "execution_count": 8,
   "metadata": {
    "collapsed": false
   },
   "outputs": [
    {
     "name": "stdout",
     "output_type": "stream",
     "text": [
      "['흑2', '백', '백', '흑', '백']\n"
     ]
    }
   ],
   "source": [
    "p1.hand_print()\n",
    "if p1.end() == 1:\n",
    "    print(\"패배하였습니다\")"
   ]
  },
  {
   "cell_type": "code",
   "execution_count": null,
   "metadata": {
    "collapsed": true
   },
   "outputs": [],
   "source": []
  }
 ],
 "metadata": {
  "kernelspec": {
   "display_name": "Python 3",
   "language": "python",
   "name": "python3"
  },
  "language_info": {
   "codemirror_mode": {
    "name": "ipython",
    "version": 3
   },
   "file_extension": ".py",
   "mimetype": "text/x-python",
   "name": "python",
   "nbconvert_exporter": "python",
   "pygments_lexer": "ipython3",
   "version": "3.4.3"
  }
 },
 "nbformat": 4,
 "nbformat_minor": 0
}
